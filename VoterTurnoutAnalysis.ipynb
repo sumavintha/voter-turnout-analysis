{
 "cells": [
  {
   "cell_type": "markdown",
   "metadata": {},
   "source": [
    "# COGS 108 - Project Proposal"
   ]
  },
   {
   "cell_type": "markdown",
   "metadata": {},
   "source": [
    "# Names\n",
    "\n",
    "- Suma Vintha\n",
    "- Eric Chen\n",
    "- Miranda Santo\n",
    "- Shau Puri\n"

   ]
  },
  {
   "cell_type": "markdown",
   "metadata": {},
   "source": [
    "# Research Question"
   ]
  },
  {
   "cell_type": "markdown",
   "metadata": {},
   "source": [
    "Are people more likely to vote for who their parents voted for in the presidential elections? Does this differ in the 2004 election vs 2024? Could social media be influencing young people's opinions?"
   ]
  },
  {
   "cell_type": "markdown",
   "metadata": {},
   "source": [
    "## Background and Prior Work",
    "\n",
    "Our topic is intergenerational political alignment, which refers to how political beliefs are passed from parents to children. This has been widely studied in political science, with research showing that children often adopt their parents' political views. However, with the rise of digital media and social platforms, the way people form political opinions has changed.",
    "\n",
    "In the past, family influence was a major factor in shaping political beliefs. Studies by Jennings and Niemi (1968) found that about 60-70% of children tend to support the same political party as their parents.<a name=\"cite_ref-1\"></a>[<sup>1</sup>](#cite_note-1)",
    "\n",
    "One of the biggest changes in modern political behavior is the growth of social media. Unlike in 2004, when most people got their political news from television and newspapers, today's political discussions happen on platforms like Facebook, Twitter (now X), TikTok, and YouTube. Research by Bakker and de Vreese (2011) found that younger voters who follow political news on social media are more likely to be influenced by their online communities rather than their parents.<a name=\"cite_ref-2\"></a>[<sup>2</sup>](#cite_note-2)",
    "\n",
    "While past research has focused on how family influences political beliefs, fewer studies have looked at how this has changed over time. This research will compare political alignment in 2004 and 2024 to see if social media has made younger voters less likely to follow their parents' political choices."
   ]
  },
  {
   "cell_type": "markdown",
   "metadata": {},
   "source": [
    "### References",
    "\n",
    "1. <a name=\"cite_note-1\"></a> [^](#cite_ref-1) Jennings, M. K., & Niemi, R. G. (1968). The transmission of political values from parent to child. *American Political Science Review, 62*(1), 169-184. [https://doi.org/10.2307/1953332](https://doi.org/10.2307/1953332)",
    "\n",
    "2. <a name=\"cite_note-2\"></a> [^](#cite_ref-2) Bakker, T. P., & de Vreese, C. H. (2011). Good news for the future? Young people, internet use, and political participation. *Communication Research, 38*(4), 451-470. [https://doi.org/10.1177/0093650210381738](https://doi.org/10.1177/0093650210381738)"
   ]
  },
    {
   "cell_type": "markdown",
   "metadata": {},
   "source": [
    "# Hypothesis\n"
   ]
  },
  {
   "cell_type": "markdown",
   "metadata": {},
   "source": [
    "\n",
    "We predict a strong correlation of people holding similar views of and voting similar to their parents in the 2004 presidential election in the US. However, we are predicting a decrease in this trend in the 2024 election, with less young people agreeing with their parents’ political views. We predict that this is the result of the rise of social media, and consequently, young people are able to be influenced from and see viewpoints from it, and therefore able to form their own opinions independent from and regardless of their parents’ views more easily and thus be less influenced by them.",
    "\n"
   ]
  },
  {
   "cell_type": "markdown",
   "metadata": {},
   "source": [
    "# Data"
   ]
  },
  {
   "cell_type": "markdown",
   "metadata": {},
  "source": [
    "1. Explain what the **ideal** dataset you would want to answer this question. (This should include: What variables? How many observations? Who/what/how would these data be collected? How would these data be stored/organized?)\n",
    "The ideal dataset to help us in our research would include data from multiple different presidential elections throughout time, since we want to explore how the spread of information and resources through social media might have contributed to how voters develop their own political views. This way, we can create a line plot that displays changes in demographics over time to help us better answer our focus question. We believe that data from the last 5 presidential elections are probably easiest for us to access, so we will compare data from 2004-2024.\n\nWe would like to visualize how this varies across parties, so it would be beneficial to have access to each individual’s specific party affiliation as well as their parent’s preferred political party. Having each respondent’s age might allow us to see if older generations are more likely to be influenced by their parents than younger generations. Ideally, this data would be collected from a random sample of individuals across the country so that our sample is representative of the population. If our data came from an exit poll at a political event, for instance, the data might not be representative of the whole population.\n\nWe would like our data to be anonymously collected, meaning that the participants’ name and other identifying information are not collected, since they are more likely to respond honestly this way.\n",
    "1. Search for potential **real** datasets that could provide you with something useful for this project.  You do not have to find every piece of data you will use, but you do need to have demonstrated some idea that (a) this data is gettable and (b) that this data may be different from what your ideal is.\n",
    "https://apnorc.org/wp-content/uploads/2020/02/MTV-AP-NORC-Comparing-the-Political-Views-of-Young-People-and-Their-Parents-Generation.pdf\n"
]

  },
  {
   "cell_type": "markdown",
   "metadata": {},
   "source": [
    "# Ethics & Privacy"
   ]
  },
  {
   "cell_type": "markdown",
   "metadata": {},
   "source": [
    "We are using archived data based on accredited polls for both elections. Political surveys are usually anonymous, so privacy should not be a big concern for our data. Additionally, as we are using archived data from the past from polls and surveys that have already been conducted by accredited pollsters, other possible privacy and ethics concerns should have already been addressed, and due to the age of the data, even if there were issues, many concerns may no longer be relevant/traceable. However, we will make sure that the data is anonymized and will do so in case it has not been already properly processed. In the extremely unlikely event that any other ethics or privacy concern arises, we will take care to ensure the proper best practices based on universally accepted guidelines are followed to mitigate them.\n"
   ]
  },
  {
   "cell_type": "markdown",
   "metadata": {},
   "source": [
    "# Team Expectations "
   ]
  },
  {
   "cell_type": "markdown",
   "metadata": {},
   "source": [
    "\n",
    "Read over the [COGS108 Team Policies](https://github.com/COGS108/Projects/blob/master/COGS108_TeamPolicies.md) individually. Then, include your group’s expectations of one another for successful completion of your COGS108 project below. Discuss and agree on what all of your expectations are. Discuss how your team will communicate throughout the quarter and consider how you will communicate respectfully should conflicts arise. By including each member’s name above and by adding their name to the submission, you are indicating that you have read the COGS108 Team Policies, accept your team’s expectations below, and have every intention to fulfill them. These expectations are for your team’s use and benefit — they won’t be graded for their details.\n",
    "\n",
    "* Clear communication - Teams members should communicate progress, any updates or questions with one another to establish effective communication and success\n",
    "* Collaboration - We should all encourage teamwork and collaboration. Respect everyone's viewpoints and perspectives.\n",
    "* Respect for deadlines and tasks - need to respect deadlines and follow a structured schedule. Accountability is important throughout this process\n"
    
   ]
  },
  {
   "cell_type": "markdown",
   "metadata": {},
   "source": [
    "# Project Timeline Proposal"
   ]
  },
  {
   "cell_type": "markdown",
   "metadata": {},
   "source": [
    "Specify your team's specific project timeline. An example timeline has been provided. Changes the dates, times, names, and details to fit your group's plan.\n",
    "\n",
    "If you think you will need any special resources or training outside what we have covered in COGS 108 to solve your problem, then your proposal should state these clearly. For example, if you have selected a problem that involves implementing multiple neural networks, please state this so we can make sure you know what you’re doing and so we can point you to resources you will need to implement your project. Note that you are not required to use outside methods.\n",
    "\n",
    "\n",
    "\n",
    "| Meeting Date  | Meeting Time| Completed Before Meeting  | Discuss at Meeting |\n",
    "|---|---|---|---|\n",
    "| 2/5  |  1 PM | Read & Think about COGS 108 expectations; brainstorm topics/questions  | Determine best form of communication; Discuss and decide on final project topic; discuss hypothesis; begin background research | \n",
    "| 2/8  |  10 AM |  Discuss ideal dataset(s) and ethics; draft project proposal | \n",
    "| 2/17  | 10 AM  | Discuss Wrangling and possible analytical approaches; Assign group members to lead each specific part   |\n",
    "| 2/23  | 6 PM  | Review/Edit wrangling/EDA; Discuss Analysis Plan   |\n",
    "| 3/2  | 12 PM  | Finalize wrangling/EDA; Begin Analysis (Iron Man; Thor) | Discuss/edit Analysis; Complete project check-in |\n",
    "| 3/10  | 12 PM  | Complete analysis; Draft results/conclusion/discussion (Wasp)| Discuss/edit full project |\n",
    "| 3/20  | Before 11:59 PM  | NA | Turn in Final Project & Group Project Surveys |"
   ]
  }
 ],
 "metadata": {
  "kernelspec": {
   "display_name": "Python 3 (ipykernel)",
   "language": "python",
   "name": "python3"
  },
  "language_info": {
   "codemirror_mode": {
    "name": "ipython",
    "version": 3
   },
   "file_extension": ".py",
   "mimetype": "text/x-python",
   "name": "python",
   "nbconvert_exporter": "python",
   "pygments_lexer": "ipython3",
   "version": "3.9.7"
  }
 },
 "nbformat": 4,
 "nbformat_minor": 2
}

